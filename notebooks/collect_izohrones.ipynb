{
 "cells": [
  {
   "cell_type": "code",
   "execution_count": 52,
   "metadata": {},
   "outputs": [],
   "source": [
    "import pandas as pd\n",
    "import numpy as np\n",
    "import geopandas as gpd\n",
    "import requests\n",
    "import geojson\n",
    "from tqdm.notebook import tqdm\n",
    "\n",
    "from shapely.geometry import shape, MultiPolygon, Point, Polygon\n",
    "import os\n",
    "import sys\n",
    "sys.path.append('../src/')\n",
    "from utils import save_pickle, load_pickle\n",
    "\n",
    "#mapbox key for isochrones\n",
    "token = 'pk.eyJ1IjoiZXZnZW5paWdhdnJpbGluIiwiYSI6ImNrMG50N3ptdjAzNW8zbm8wZzVmaXpzcWoifQ.LMSJohnSoBN-6YlAgKPO0w'\n"
   ]
  },
  {
   "cell_type": "code",
   "execution_count": 103,
   "metadata": {},
   "outputs": [],
   "source": [
    "def get_isochrone(coord, kind = 'driving', minutes = '5,10,15,20'):\n",
    "    \"\"\"\n",
    "    \n",
    "    \"\"\"\n",
    "    request = f'https://api.mapbox.com/isochrone/v1/mapbox/{kind}/{coord.x},{coord.y}?contours_minutes={minutes}&polygons=true&access_token={token}'\n",
    "    r = requests.get(request)  \n",
    "    return geojson.loads(r.content)\n"
   ]
  },
  {
   "cell_type": "code",
   "execution_count": 184,
   "metadata": {},
   "outputs": [],
   "source": [
    "df_home_job = pd.read_csv(\"../data/raw/01_CLocation_July.csv\")\n",
    "df_shape = gpd.read_file(\"../data/raw/fishnet2021/fishnet2021.shp\")\n",
    "df_home_job.rename(columns={'zid': 'cell_zid'}, inplace=True)\n",
    "\n",
    "df_home_job = pd.merge(df_home_job, shape, on = ['cell_zid'])\n",
    "df_home_job['center'] = df_home_job['geometry'].map(lambda poly: poly.centroid)"
   ]
  },
  {
   "cell_type": "code",
   "execution_count": 104,
   "metadata": {},
   "outputs": [],
   "source": [
    "isochrone_file_path = \"../data/precessed/isochrones_walk.pkl\"\n",
    "if os.path.exists(isochrone_file_path):\n",
    "    isochrones_walk = load_pickle(isochrone_file_path)\n",
    "else:\n",
    "    print(\"empty\")\n",
    "    isochrones_walk = {}"
   ]
  },
  {
   "cell_type": "code",
   "execution_count": 118,
   "metadata": {},
   "outputs": [
    {
     "data": {
      "application/vnd.jupyter.widget-view+json": {
       "model_id": "8221da69ce0a43299a1e9f4cd43cc02d",
       "version_major": 2,
       "version_minor": 0
      },
      "text/plain": [
       "HBox(children=(HTML(value=''), FloatProgress(value=0.0, max=10240.0), HTML(value='')))"
      ]
     },
     "metadata": {},
     "output_type": "display_data"
    },
    {
     "name": "stdout",
     "output_type": "stream",
     "text": [
      "\n"
     ]
    }
   ],
   "source": [
    "for idx, row in tqdm(df_home_job.iterrows(), total=len(df_home_job)):\n",
    "    if row['cell_zid'] in isochrones_walk.keys():\n",
    "        if 'features' in isochrones_walk[row['cell_zid']].keys():\n",
    "            continue\n",
    "    isochrones_walk[row['cell_zid']] = get_isochrone(row['center'], kind = 'walking')\n",
    "    if idx %100 == 0:\n",
    "        save_pickle(isochrones_walk, \"../data/precessed/isochrones_walk.pkl\")\n",
    "save_pickle(isochrones_walk, \"../data/precessed/isochrones_walk.pkl\")        "
   ]
  },
  {
   "cell_type": "code",
   "execution_count": 106,
   "metadata": {},
   "outputs": [
    {
     "data": {
      "image/svg+xml": [
       "<svg xmlns=\"http://www.w3.org/2000/svg\" xmlns:xlink=\"http://www.w3.org/1999/xlink\" width=\"100.0\" height=\"100.0\" viewBox=\"37.02616796 55.141746960000006 0.005112079999996411 0.00645407999999037\" preserveAspectRatio=\"xMinYMin meet\"><g transform=\"matrix(1,0,0,-1,0,110.28994800000001)\"><path fill-rule=\"evenodd\" fill=\"#66cc99\" stroke=\"#555555\" stroke-width=\"0.0001290815999998074\" opacity=\"0.6\" d=\"M 37.030407,55.147937 L 37.027992,55.147962 L 37.027638,55.146547 L 37.026608,55.145547 L 37.026407,55.141986 L 37.027778,55.142176 L 37.028191,55.144547 L 37.029054,55.144901 L 37.029199,55.146756 L 37.031041,55.147547 L 37.030407,55.147937 z\" /></g></svg>"
      ],
      "text/plain": [
       "<shapely.geometry.polygon.Polygon at 0x7fbb54838820>"
      ]
     },
     "execution_count": 106,
     "metadata": {},
     "output_type": "execute_result"
    }
   ],
   "source": [
    "Polygon(isochrones_walk[32909]['features'][3]['geometry']['coordinates'][0])"
   ]
  },
  {
   "cell_type": "code",
   "execution_count": 123,
   "metadata": {},
   "outputs": [],
   "source": [
    "l_5 = []\n",
    "l_10 = []\n",
    "l_15 = []\n",
    "l_20 = []\n",
    "for zid in isochrones_walk.keys():\n",
    "    l_5.append((zid,Polygon(isochrones_walk[zid]['features'][3]['geometry']['coordinates'][0])))\n",
    "    l_10.append((zid,Polygon(isochrones_walk[zid]['features'][2]['geometry']['coordinates'][0])))\n",
    "    l_15.append((zid,Polygon(isochrones_walk[zid]['features'][1]['geometry']['coordinates'][0])))\n",
    "    l_20.append((zid,Polygon(isochrones_walk[zid]['features'][0]['geometry']['coordinates'][0])))"
   ]
  },
  {
   "cell_type": "code",
   "execution_count": 124,
   "metadata": {},
   "outputs": [],
   "source": [
    "df_5 = pd.DataFrame(l_5, columns = ['zid', 'geometry'])\n",
    "df_5['geometry'] = df_5['geometry'].astype(str)\n",
    "df_10 = pd.DataFrame(l_10, columns = ['zid', 'geometry'])\n",
    "df_10['geometry'] = df_10['geometry'].astype(str)\n",
    "df_15 = pd.DataFrame(l_15, columns = ['zid', 'geometry'])\n",
    "df_15['geometry'] = df_15['geometry'].astype(str)\n",
    "df_20 = pd.DataFrame(l_20, columns = ['zid', 'geometry'])\n",
    "df_20['geometry'] = df_20['geometry'].astype(str)"
   ]
  },
  {
   "cell_type": "code",
   "execution_count": 129,
   "metadata": {},
   "outputs": [],
   "source": [
    "df_home_job['geometry'] = df_home_job['geometry'].astype(str)"
   ]
  },
  {
   "cell_type": "code",
   "execution_count": 133,
   "metadata": {},
   "outputs": [
    {
     "data": {
      "text/html": [
       "<div>\n",
       "<style scoped>\n",
       "    .dataframe tbody tr th:only-of-type {\n",
       "        vertical-align: middle;\n",
       "    }\n",
       "\n",
       "    .dataframe tbody tr th {\n",
       "        vertical-align: top;\n",
       "    }\n",
       "\n",
       "    .dataframe thead th {\n",
       "        text-align: right;\n",
       "    }\n",
       "</style>\n",
       "<table border=\"1\" class=\"dataframe\">\n",
       "  <thead>\n",
       "    <tr style=\"text-align: right;\">\n",
       "      <th></th>\n",
       "      <th>cell_zid</th>\n",
       "      <th>customers_cnt_home</th>\n",
       "      <th>customers_cnt_job</th>\n",
       "      <th>customers_cnt_day</th>\n",
       "      <th>customers_cnt_move</th>\n",
       "      <th>geometry</th>\n",
       "      <th>center</th>\n",
       "    </tr>\n",
       "  </thead>\n",
       "  <tbody>\n",
       "    <tr>\n",
       "      <th>0</th>\n",
       "      <td>32909</td>\n",
       "      <td>4</td>\n",
       "      <td>0</td>\n",
       "      <td>0</td>\n",
       "      <td>0</td>\n",
       "      <td>POLYGON ((37.03351220866129 55.14028664630594,...</td>\n",
       "      <td>POINT (37.03740694989381 55.1425474465426)</td>\n",
       "    </tr>\n",
       "    <tr>\n",
       "      <th>1</th>\n",
       "      <td>32910</td>\n",
       "      <td>25</td>\n",
       "      <td>8</td>\n",
       "      <td>26</td>\n",
       "      <td>0</td>\n",
       "      <td>POLYGON ((37.04135364622309 55.14031640325421,...</td>\n",
       "      <td>POINT (37.0452488350607 55.14257695359622)</td>\n",
       "    </tr>\n",
       "    <tr>\n",
       "      <th>2</th>\n",
       "      <td>33261</td>\n",
       "      <td>2</td>\n",
       "      <td>0</td>\n",
       "      <td>2</td>\n",
       "      <td>0</td>\n",
       "      <td>POLYGON ((37.02561751031512 55.14474813716326,...</td>\n",
       "      <td>POINT (37.02951223685058 55.14700918795363)</td>\n",
       "    </tr>\n",
       "    <tr>\n",
       "      <th>3</th>\n",
       "      <td>33262</td>\n",
       "      <td>13</td>\n",
       "      <td>2</td>\n",
       "      <td>11</td>\n",
       "      <td>0</td>\n",
       "      <td>POLYGON ((37.03345981389939 55.14477840355769,...</td>\n",
       "      <td>POINT (37.03735498836724 55.14703920431827)</td>\n",
       "    </tr>\n",
       "    <tr>\n",
       "      <th>4</th>\n",
       "      <td>33263</td>\n",
       "      <td>10</td>\n",
       "      <td>0</td>\n",
       "      <td>3</td>\n",
       "      <td>0</td>\n",
       "      <td>POLYGON ((37.04130213212256 55.14480816490281,...</td>\n",
       "      <td>POINT (37.04519775415532 55.14706871627504)</td>\n",
       "    </tr>\n",
       "    <tr>\n",
       "      <th>...</th>\n",
       "      <td>...</td>\n",
       "      <td>...</td>\n",
       "      <td>...</td>\n",
       "      <td>...</td>\n",
       "      <td>...</td>\n",
       "      <td>...</td>\n",
       "      <td>...</td>\n",
       "    </tr>\n",
       "    <tr>\n",
       "      <th>10235</th>\n",
       "      <td>138913</td>\n",
       "      <td>77</td>\n",
       "      <td>455</td>\n",
       "      <td>495</td>\n",
       "      <td>1</td>\n",
       "      <td>POLYGON ((37.17539226107255 56.0121198228514, ...</td>\n",
       "      <td>POINT (37.17938228624779 56.01437588232672)</td>\n",
       "    </tr>\n",
       "    <tr>\n",
       "      <th>10236</th>\n",
       "      <td>138914</td>\n",
       "      <td>165</td>\n",
       "      <td>796</td>\n",
       "      <td>884</td>\n",
       "      <td>8</td>\n",
       "      <td>POLYGON ((37.18340951375081 56.01214066033057,...</td>\n",
       "      <td>POINT (37.187400009301 56.0143964609985)</td>\n",
       "    </tr>\n",
       "    <tr>\n",
       "      <th>10237</th>\n",
       "      <td>138915</td>\n",
       "      <td>587</td>\n",
       "      <td>1341</td>\n",
       "      <td>1661</td>\n",
       "      <td>19</td>\n",
       "      <td>POLYGON ((37.1914267768936 56.01216097673462, ...</td>\n",
       "      <td>POINT (37.19541774366687 56.01441651855303)</td>\n",
       "    </tr>\n",
       "    <tr>\n",
       "      <th>10238</th>\n",
       "      <td>138916</td>\n",
       "      <td>1206</td>\n",
       "      <td>1669</td>\n",
       "      <td>2177</td>\n",
       "      <td>47</td>\n",
       "      <td>POLYGON ((37.19944405219302 56.01218077206691,...</td>\n",
       "      <td>POINT (37.20343548810177 56.01443605498648)</td>\n",
       "    </tr>\n",
       "    <tr>\n",
       "      <th>10239</th>\n",
       "      <td>139343</td>\n",
       "      <td>75</td>\n",
       "      <td>233</td>\n",
       "      <td>269</td>\n",
       "      <td>5</td>\n",
       "      <td>POLYGON ((37.18337277695604 56.01663185670218,...</td>\n",
       "      <td>POINT (37.18736373215279 56.01888765715695)</td>\n",
       "    </tr>\n",
       "  </tbody>\n",
       "</table>\n",
       "<p>10240 rows × 7 columns</p>\n",
       "</div>"
      ],
      "text/plain": [
       "       cell_zid  customers_cnt_home  customers_cnt_job  customers_cnt_day  \\\n",
       "0         32909                   4                  0                  0   \n",
       "1         32910                  25                  8                 26   \n",
       "2         33261                   2                  0                  2   \n",
       "3         33262                  13                  2                 11   \n",
       "4         33263                  10                  0                  3   \n",
       "...         ...                 ...                ...                ...   \n",
       "10235    138913                  77                455                495   \n",
       "10236    138914                 165                796                884   \n",
       "10237    138915                 587               1341               1661   \n",
       "10238    138916                1206               1669               2177   \n",
       "10239    139343                  75                233                269   \n",
       "\n",
       "       customers_cnt_move                                           geometry  \\\n",
       "0                       0  POLYGON ((37.03351220866129 55.14028664630594,...   \n",
       "1                       0  POLYGON ((37.04135364622309 55.14031640325421,...   \n",
       "2                       0  POLYGON ((37.02561751031512 55.14474813716326,...   \n",
       "3                       0  POLYGON ((37.03345981389939 55.14477840355769,...   \n",
       "4                       0  POLYGON ((37.04130213212256 55.14480816490281,...   \n",
       "...                   ...                                                ...   \n",
       "10235                   1  POLYGON ((37.17539226107255 56.0121198228514, ...   \n",
       "10236                   8  POLYGON ((37.18340951375081 56.01214066033057,...   \n",
       "10237                  19  POLYGON ((37.1914267768936 56.01216097673462, ...   \n",
       "10238                  47  POLYGON ((37.19944405219302 56.01218077206691,...   \n",
       "10239                   5  POLYGON ((37.18337277695604 56.01663185670218,...   \n",
       "\n",
       "                                            center  \n",
       "0       POINT (37.03740694989381 55.1425474465426)  \n",
       "1       POINT (37.0452488350607 55.14257695359622)  \n",
       "2      POINT (37.02951223685058 55.14700918795363)  \n",
       "3      POINT (37.03735498836724 55.14703920431827)  \n",
       "4      POINT (37.04519775415532 55.14706871627504)  \n",
       "...                                            ...  \n",
       "10235  POINT (37.17938228624779 56.01437588232672)  \n",
       "10236     POINT (37.187400009301 56.0143964609985)  \n",
       "10237  POINT (37.19541774366687 56.01441651855303)  \n",
       "10238  POINT (37.20343548810177 56.01443605498648)  \n",
       "10239  POINT (37.18736373215279 56.01888765715695)  \n",
       "\n",
       "[10240 rows x 7 columns]"
      ]
     },
     "execution_count": 133,
     "metadata": {},
     "output_type": "execute_result"
    }
   ],
   "source": [
    "df_home_job"
   ]
  },
  {
   "cell_type": "code",
   "execution_count": 135,
   "metadata": {},
   "outputs": [
    {
     "name": "stdout",
     "output_type": "stream",
     "text": [
      "User Guide: https://docs.kepler.gl/docs/keplergl-jupyter\n"
     ]
    },
    {
     "data": {
      "application/vnd.jupyter.widget-view+json": {
       "model_id": "69556b5bb4a84251b9dd027fda9db30d",
       "version_major": 2,
       "version_minor": 0
      },
      "text/plain": [
       "KeplerGl(config={'version': 'v1', 'config': {'visState': {'filters': [], 'layers': [{'id': 'hab79n', 'type': '…"
      ]
     },
     "metadata": {},
     "output_type": "display_data"
    }
   ],
   "source": [
    "from keplergl import KeplerGl\n",
    "map_config = load_pickle(\"../configs/map_config_base.pkl\")\n",
    "\n",
    "map_1 = KeplerGl(height = 700, config = map_config)\n",
    "map_1.add_data(df_15, name='shape')\n",
    "map_1.add_data(df_home_job.drop(['center'], 1), name='population')\n",
    "map_1"
   ]
  },
  {
   "cell_type": "code",
   "execution_count": 134,
   "metadata": {},
   "outputs": [],
   "source": [
    "save_pickle(map_1.config, \"../configs/map_config_base.pkl\")"
   ]
  },
  {
   "cell_type": "code",
   "execution_count": 144,
   "metadata": {},
   "outputs": [
    {
     "data": {
      "image/svg+xml": [
       "<svg xmlns=\"http://www.w3.org/2000/svg\" xmlns:xlink=\"http://www.w3.org/1999/xlink\" width=\"100.0\" height=\"100.0\" viewBox=\"37.63999544 55.64368944 0.02461212000000046 0.016948119999995015\" preserveAspectRatio=\"xMinYMin meet\"><g transform=\"matrix(1,0,0,-1,0,111.304327)\"><path fill-rule=\"evenodd\" fill=\"#66cc99\" stroke=\"#555555\" stroke-width=\"0.0004922424000000092\" opacity=\"0.6\" d=\"M 37.653021,55.659726 L 37.649262,55.659655 L 37.648021,55.657632 L 37.643224,55.6581 L 37.641491,55.657896 L 37.642271,55.656147 L 37.642956,55.655896 L 37.642021,55.655586 L 37.640907,55.652896 L 37.641748,55.650624 L 37.642457,55.650333 L 37.644366,55.650242 L 37.645161,55.649756 L 37.646021,55.652071 L 37.646366,55.651242 L 37.648021,55.651053 L 37.648159,55.650035 L 37.649067,55.649943 L 37.649175,55.649051 L 37.653021,55.649246 L 37.653234,55.648683 L 37.652301,55.647896 L 37.652631,55.646507 L 37.656021,55.644601 L 37.658021,55.645983 L 37.659227,55.64769 L 37.661021,55.648325 L 37.662845,55.648072 L 37.663696,55.648896 L 37.662361,55.650237 L 37.660021,55.650429 L 37.659377,55.651253 L 37.657021,55.651596 L 37.656614,55.65249 L 37.65496,55.652835 L 37.655021,55.65367 L 37.657607,55.65531 L 37.657729,55.657605 L 37.653742,55.658618 L 37.653021,55.659726 z\" /></g></svg>"
      ],
      "text/plain": [
       "<shapely.geometry.polygon.Polygon at 0x7fbb3ee400a0>"
      ]
     },
     "execution_count": 144,
     "metadata": {},
     "output_type": "execute_result"
    }
   ],
   "source": [
    "df_15 = pd.DataFrame(l_15, columns = ['zid', 'geometry'])\n",
    "df_15[df_15['zid'] == 96243]['geometry'].iloc[0]"
   ]
  }
 ],
 "metadata": {
  "kernelspec": {
   "display_name": "Python 3",
   "language": "python",
   "name": "python3"
  },
  "language_info": {
   "codemirror_mode": {
    "name": "ipython",
    "version": 3
   },
   "file_extension": ".py",
   "mimetype": "text/x-python",
   "name": "python",
   "nbconvert_exporter": "python",
   "pygments_lexer": "ipython3",
   "version": "3.8.2"
  }
 },
 "nbformat": 4,
 "nbformat_minor": 4
}
