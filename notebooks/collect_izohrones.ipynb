{
 "cells": [
  {
   "cell_type": "code",
   "execution_count": 47,
   "metadata": {},
   "outputs": [],
   "source": [
    "import pandas as pd\n",
    "import geopandas as gpd\n",
    "import requests\n",
    "import geojson\n",
    "from tqdm.notebook import tqdm\n",
    "from shapely.geometry import shape, MultiPolygon, Point, Polygon\n",
    "import sys\n",
    "sys.path.append('../src/')\n",
    "from utils import save_pickle, load_pickle\n",
    "\n",
    "#mapbox key for isochrones\n",
    "token = 'pk.eyJ1IjoiZXZnZW5paWdhdnJpbGluIiwiYSI6ImNrMG50N3ptdjAzNW8zbm8wZzVmaXpzcWoifQ.LMSJohnSoBN-6YlAgKPO0w'\n"
   ]
  },
  {
   "cell_type": "code",
   "execution_count": 24,
   "metadata": {},
   "outputs": [],
   "source": [
    "def get_isochrone(coord, kind = 'driving', minutes = '5,10,15,20'):\n",
    "    \"\"\"\n",
    "    \n",
    "    \"\"\"\n",
    "    request = f'https://api.mapbox.com/isochrone/v1/mapbox/{kind}/{coord.y},{coord.x}?contours_minutes={minutes}&polygons=true&access_token={token}'\n",
    "    print(request)\n",
    "    r = requests.get(request)  \n",
    "    return geojson.loads(r.content)\n"
   ]
  },
  {
   "cell_type": "code",
   "execution_count": 11,
   "metadata": {},
   "outputs": [],
   "source": [
    "df_home_job = pd.read_csv(\"../data/raw/01_CLocation_July.csv\")\n",
    "shape = gpd.read_file(\"../data/raw/fishnet2021/fishnet2021.shp\")\n",
    "df_home_job.rename(columns={'zid': 'cell_zid'}, inplace=True)\n",
    "\n",
    "df_home_job = pd.merge(df_home_job, shape, on = ['cell_zid'])\n",
    "\n",
    "# это только для отрисовки\n",
    "# df_home_job['geometry'] = df_home_job['geometry'].astype(str)\n"
   ]
  },
  {
   "cell_type": "code",
   "execution_count": 12,
   "metadata": {},
   "outputs": [],
   "source": [
    "df_home_job['center'] = df_home_job['geometry'].map(lambda poly: poly.centroid)"
   ]
  },
  {
   "cell_type": "code",
   "execution_count": 15,
   "metadata": {},
   "outputs": [],
   "source": [
    "df = df_home_job.head()"
   ]
  },
  {
   "cell_type": "code",
   "execution_count": 32,
   "metadata": {},
   "outputs": [
    {
     "data": {
      "text/html": [
       "<div>\n",
       "<style scoped>\n",
       "    .dataframe tbody tr th:only-of-type {\n",
       "        vertical-align: middle;\n",
       "    }\n",
       "\n",
       "    .dataframe tbody tr th {\n",
       "        vertical-align: top;\n",
       "    }\n",
       "\n",
       "    .dataframe thead th {\n",
       "        text-align: right;\n",
       "    }\n",
       "</style>\n",
       "<table border=\"1\" class=\"dataframe\">\n",
       "  <thead>\n",
       "    <tr style=\"text-align: right;\">\n",
       "      <th></th>\n",
       "      <th>cell_zid</th>\n",
       "      <th>customers_cnt_home</th>\n",
       "      <th>customers_cnt_job</th>\n",
       "      <th>customers_cnt_day</th>\n",
       "      <th>customers_cnt_move</th>\n",
       "      <th>geometry</th>\n",
       "      <th>center</th>\n",
       "    </tr>\n",
       "  </thead>\n",
       "  <tbody>\n",
       "    <tr>\n",
       "      <th>0</th>\n",
       "      <td>32909</td>\n",
       "      <td>4</td>\n",
       "      <td>0</td>\n",
       "      <td>0</td>\n",
       "      <td>0</td>\n",
       "      <td>POLYGON ((37.03351 55.14029, 37.03346 55.14478...</td>\n",
       "      <td>POINT (37.03740694989381 55.1425474465426)</td>\n",
       "    </tr>\n",
       "    <tr>\n",
       "      <th>1</th>\n",
       "      <td>32910</td>\n",
       "      <td>25</td>\n",
       "      <td>8</td>\n",
       "      <td>26</td>\n",
       "      <td>0</td>\n",
       "      <td>POLYGON ((37.04135 55.14032, 37.04130 55.14481...</td>\n",
       "      <td>POINT (37.0452488350607 55.14257695359622)</td>\n",
       "    </tr>\n",
       "    <tr>\n",
       "      <th>2</th>\n",
       "      <td>33261</td>\n",
       "      <td>2</td>\n",
       "      <td>0</td>\n",
       "      <td>2</td>\n",
       "      <td>0</td>\n",
       "      <td>POLYGON ((37.02562 55.14475, 37.02556 55.14924...</td>\n",
       "      <td>POINT (37.02951223685058 55.14700918795363)</td>\n",
       "    </tr>\n",
       "    <tr>\n",
       "      <th>3</th>\n",
       "      <td>33262</td>\n",
       "      <td>13</td>\n",
       "      <td>2</td>\n",
       "      <td>11</td>\n",
       "      <td>0</td>\n",
       "      <td>POLYGON ((37.03346 55.14478, 37.03341 55.14927...</td>\n",
       "      <td>POINT (37.03735498836724 55.14703920431827)</td>\n",
       "    </tr>\n",
       "    <tr>\n",
       "      <th>4</th>\n",
       "      <td>33263</td>\n",
       "      <td>10</td>\n",
       "      <td>0</td>\n",
       "      <td>3</td>\n",
       "      <td>0</td>\n",
       "      <td>POLYGON ((37.04130 55.14481, 37.04125 55.14930...</td>\n",
       "      <td>POINT (37.04519775415532 55.14706871627504)</td>\n",
       "    </tr>\n",
       "  </tbody>\n",
       "</table>\n",
       "</div>"
      ],
      "text/plain": [
       "   cell_zid  customers_cnt_home  customers_cnt_job  customers_cnt_day  \\\n",
       "0     32909                   4                  0                  0   \n",
       "1     32910                  25                  8                 26   \n",
       "2     33261                   2                  0                  2   \n",
       "3     33262                  13                  2                 11   \n",
       "4     33263                  10                  0                  3   \n",
       "\n",
       "   customers_cnt_move                                           geometry  \\\n",
       "0                   0  POLYGON ((37.03351 55.14029, 37.03346 55.14478...   \n",
       "1                   0  POLYGON ((37.04135 55.14032, 37.04130 55.14481...   \n",
       "2                   0  POLYGON ((37.02562 55.14475, 37.02556 55.14924...   \n",
       "3                   0  POLYGON ((37.03346 55.14478, 37.03341 55.14927...   \n",
       "4                   0  POLYGON ((37.04130 55.14481, 37.04125 55.14930...   \n",
       "\n",
       "                                        center  \n",
       "0   POINT (37.03740694989381 55.1425474465426)  \n",
       "1   POINT (37.0452488350607 55.14257695359622)  \n",
       "2  POINT (37.02951223685058 55.14700918795363)  \n",
       "3  POINT (37.03735498836724 55.14703920431827)  \n",
       "4  POINT (37.04519775415532 55.14706871627504)  "
      ]
     },
     "execution_count": 32,
     "metadata": {},
     "output_type": "execute_result"
    }
   ],
   "source": [
    "df"
   ]
  },
  {
   "cell_type": "code",
   "execution_count": 34,
   "metadata": {},
   "outputs": [
    {
     "data": {
      "application/vnd.jupyter.widget-view+json": {
       "model_id": "5b183cc93a644ad087885a44bf4d14bb",
       "version_major": 2,
       "version_minor": 0
      },
      "text/plain": [
       "HBox(children=(HTML(value=''), FloatProgress(value=0.0, max=5.0), HTML(value='')))"
      ]
     },
     "metadata": {},
     "output_type": "display_data"
    },
    {
     "name": "stdout",
     "output_type": "stream",
     "text": [
      "https://api.mapbox.com/isochrone/v1/mapbox/driving/55.1425474465426,37.03740694989381?contours_minutes=5,10,15,20&polygons=true&access_token=pk.eyJ1IjoiZXZnZW5paWdhdnJpbGluIiwiYSI6ImNrMG50N3ptdjAzNW8zbm8wZzVmaXpzcWoifQ.LMSJohnSoBN-6YlAgKPO0w\n",
      "https://api.mapbox.com/isochrone/v1/mapbox/driving/55.14257695359622,37.045248835060704?contours_minutes=5,10,15,20&polygons=true&access_token=pk.eyJ1IjoiZXZnZW5paWdhdnJpbGluIiwiYSI6ImNrMG50N3ptdjAzNW8zbm8wZzVmaXpzcWoifQ.LMSJohnSoBN-6YlAgKPO0w\n",
      "https://api.mapbox.com/isochrone/v1/mapbox/driving/55.14700918795363,37.02951223685058?contours_minutes=5,10,15,20&polygons=true&access_token=pk.eyJ1IjoiZXZnZW5paWdhdnJpbGluIiwiYSI6ImNrMG50N3ptdjAzNW8zbm8wZzVmaXpzcWoifQ.LMSJohnSoBN-6YlAgKPO0w\n",
      "https://api.mapbox.com/isochrone/v1/mapbox/driving/55.14703920431827,37.03735498836724?contours_minutes=5,10,15,20&polygons=true&access_token=pk.eyJ1IjoiZXZnZW5paWdhdnJpbGluIiwiYSI6ImNrMG50N3ptdjAzNW8zbm8wZzVmaXpzcWoifQ.LMSJohnSoBN-6YlAgKPO0w\n",
      "https://api.mapbox.com/isochrone/v1/mapbox/driving/55.14706871627504,37.04519775415532?contours_minutes=5,10,15,20&polygons=true&access_token=pk.eyJ1IjoiZXZnZW5paWdhdnJpbGluIiwiYSI6ImNrMG50N3ptdjAzNW8zbm8wZzVmaXpzcWoifQ.LMSJohnSoBN-6YlAgKPO0w\n",
      "\n"
     ]
    }
   ],
   "source": [
    "isochrones_walk = {}\n",
    "for idx, row in tqdm(df.iterrows(), total=len(df)):\n",
    "    isochrones_walk[row['cell_zid']] = get_isochrone(row['center'])\n",
    "    if idx %2 == 0:\n",
    "        save_pickle(isochrones_walk, \"../data/precessed/isochrones_walk.pkl\")\n",
    "        "
   ]
  },
  {
   "cell_type": "code",
   "execution_count": 49,
   "metadata": {},
   "outputs": [
    {
     "data": {
      "image/svg+xml": [
       "<svg xmlns=\"http://www.w3.org/2000/svg\" xmlns:xlink=\"http://www.w3.org/1999/xlink\" width=\"100.0\" height=\"100.0\" viewBox=\"55.1287254 37.0343364 0.029097200000002488 0.0510731999999976\" preserveAspectRatio=\"xMinYMin meet\"><g transform=\"matrix(1,0,0,-1,0,74.11974599999999)\"><path fill-rule=\"evenodd\" fill=\"#66cc99\" stroke=\"#555555\" stroke-width=\"0.001021463999999952\" opacity=\"0.6\" d=\"M 55.152547,37.083518 L 55.152022,37.079932 L 55.150212,37.079742 L 55.147547,37.076408 L 55.142547,37.07644 L 55.140547,37.074078 L 55.137836,37.076118 L 55.136452,37.075503 L 55.136073,37.073407 L 55.132547,37.07181 L 55.130617,37.069407 L 55.134547,37.068962 L 55.137081,37.065407 L 55.136978,37.053407 L 55.138954,37.051407 L 55.13965,37.043407 L 55.138893,37.039407 L 55.139238,37.038097 L 55.142547,37.036228 L 55.144214,37.037407 L 55.144207,37.039407 L 55.143867,37.040726 L 55.142197,37.041407 L 55.142127,37.053407 L 55.140113,37.055407 L 55.140058,37.061407 L 55.14148,37.062475 L 55.142037,37.065917 L 55.143627,37.067407 L 55.142285,37.069669 L 55.144603,37.071352 L 55.144432,37.073523 L 55.146547,37.074736 L 55.150547,37.075337 L 55.15124,37.076715 L 55.153507,37.077407 L 55.155931,37.079407 L 55.152961,37.07982 L 55.152678,37.083277 L 55.153837,37.083407 L 55.152547,37.083518 z\" /></g></svg>"
      ],
      "text/plain": [
       "<shapely.geometry.polygon.Polygon at 0x7fbb8e617880>"
      ]
     },
     "execution_count": 49,
     "metadata": {},
     "output_type": "execute_result"
    }
   ],
   "source": [
    "Polygon(isochrones_walk[32909]['features'][3]['geometry']['coordinates'][0])"
   ]
  },
  {
   "cell_type": "code",
   "execution_count": null,
   "metadata": {},
   "outputs": [],
   "source": []
  }
 ],
 "metadata": {
  "kernelspec": {
   "display_name": "Python 3",
   "language": "python",
   "name": "python3"
  },
  "language_info": {
   "codemirror_mode": {
    "name": "ipython",
    "version": 3
   },
   "file_extension": ".py",
   "mimetype": "text/x-python",
   "name": "python",
   "nbconvert_exporter": "python",
   "pygments_lexer": "ipython3",
   "version": "3.8.2"
  }
 },
 "nbformat": 4,
 "nbformat_minor": 4
}
