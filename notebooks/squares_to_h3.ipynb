{
 "cells": [
  {
   "cell_type": "code",
   "execution_count": 1,
   "metadata": {},
   "outputs": [],
   "source": [
    "import os\n",
    "import sys\n",
    "import random\n",
    "import json\n",
    "import pandas as pd\n",
    "import numpy as np\n",
    "import geopandas as gpd\n",
    "\n",
    "from h3 import h3\n",
    "from keplergl import KeplerGl\n",
    "\n",
    "sys.path.append('../src/')\n",
    "from utils import save_pickle, load_pickle, make_h3_index\n",
    "\n",
    "RES = 10\n",
    "HEX_COLUMN = f'geo_h3_{RES}'"
   ]
  },
  {
   "cell_type": "code",
   "execution_count": 2,
   "metadata": {},
   "outputs": [
    {
     "data": {
      "text/html": [
       "<div>\n",
       "<style scoped>\n",
       "    .dataframe tbody tr th:only-of-type {\n",
       "        vertical-align: middle;\n",
       "    }\n",
       "\n",
       "    .dataframe tbody tr th {\n",
       "        vertical-align: top;\n",
       "    }\n",
       "\n",
       "    .dataframe thead th {\n",
       "        text-align: right;\n",
       "    }\n",
       "</style>\n",
       "<table border=\"1\" class=\"dataframe\">\n",
       "  <thead>\n",
       "    <tr style=\"text-align: right;\">\n",
       "      <th></th>\n",
       "      <th>cell_zid</th>\n",
       "      <th>customers_cnt_home</th>\n",
       "      <th>customers_cnt_job</th>\n",
       "      <th>customers_cnt_day</th>\n",
       "      <th>customers_cnt_move</th>\n",
       "      <th>geometry</th>\n",
       "    </tr>\n",
       "  </thead>\n",
       "  <tbody>\n",
       "    <tr>\n",
       "      <th>0</th>\n",
       "      <td>32909</td>\n",
       "      <td>4</td>\n",
       "      <td>0</td>\n",
       "      <td>0</td>\n",
       "      <td>0</td>\n",
       "      <td>POLYGON ((37.03351 55.14029, 37.03346 55.14478...</td>\n",
       "    </tr>\n",
       "    <tr>\n",
       "      <th>1</th>\n",
       "      <td>32910</td>\n",
       "      <td>25</td>\n",
       "      <td>8</td>\n",
       "      <td>26</td>\n",
       "      <td>0</td>\n",
       "      <td>POLYGON ((37.04135 55.14032, 37.04130 55.14481...</td>\n",
       "    </tr>\n",
       "    <tr>\n",
       "      <th>2</th>\n",
       "      <td>33261</td>\n",
       "      <td>2</td>\n",
       "      <td>0</td>\n",
       "      <td>2</td>\n",
       "      <td>0</td>\n",
       "      <td>POLYGON ((37.02562 55.14475, 37.02556 55.14924...</td>\n",
       "    </tr>\n",
       "    <tr>\n",
       "      <th>3</th>\n",
       "      <td>33262</td>\n",
       "      <td>13</td>\n",
       "      <td>2</td>\n",
       "      <td>11</td>\n",
       "      <td>0</td>\n",
       "      <td>POLYGON ((37.03346 55.14478, 37.03341 55.14927...</td>\n",
       "    </tr>\n",
       "    <tr>\n",
       "      <th>4</th>\n",
       "      <td>33263</td>\n",
       "      <td>10</td>\n",
       "      <td>0</td>\n",
       "      <td>3</td>\n",
       "      <td>0</td>\n",
       "      <td>POLYGON ((37.04130 55.14481, 37.04125 55.14930...</td>\n",
       "    </tr>\n",
       "  </tbody>\n",
       "</table>\n",
       "</div>"
      ],
      "text/plain": [
       "   cell_zid  customers_cnt_home  customers_cnt_job  customers_cnt_day  \\\n",
       "0     32909                   4                  0                  0   \n",
       "1     32910                  25                  8                 26   \n",
       "2     33261                   2                  0                  2   \n",
       "3     33262                  13                  2                 11   \n",
       "4     33263                  10                  0                  3   \n",
       "\n",
       "   customers_cnt_move                                           geometry  \n",
       "0                   0  POLYGON ((37.03351 55.14029, 37.03346 55.14478...  \n",
       "1                   0  POLYGON ((37.04135 55.14032, 37.04130 55.14481...  \n",
       "2                   0  POLYGON ((37.02562 55.14475, 37.02556 55.14924...  \n",
       "3                   0  POLYGON ((37.03346 55.14478, 37.03341 55.14927...  \n",
       "4                   0  POLYGON ((37.04130 55.14481, 37.04125 55.14930...  "
      ]
     },
     "execution_count": 2,
     "metadata": {},
     "output_type": "execute_result"
    }
   ],
   "source": [
    "df_home_job = pd.read_csv(\"../data/raw/01_CLocation_July.csv\")\n",
    "df_shape = gpd.read_file(\"../data/raw/fishnet2021/fishnet2021.shp\")\n",
    "df_home_job.rename(columns={'zid': 'cell_zid'}, inplace=True)\n",
    "\n",
    "df_home_job = pd.merge(df_home_job, df_shape, on = ['cell_zid'])\n",
    "gdf_home_job = json.loads(gpd.GeoDataFrame(df_home_job).to_json())\n",
    "df_home_job.head()"
   ]
  },
  {
   "cell_type": "code",
   "execution_count": 3,
   "metadata": {},
   "outputs": [],
   "source": [
    "def generate_points_in_bounds(poly, size):\n",
    "    minx, miny, maxx, maxy = poly.bounds\n",
    "    return [(random.uniform(minx, maxx), random.uniform(miny, maxy)) for i in range(size)]"
   ]
  },
  {
   "cell_type": "code",
   "execution_count": null,
   "metadata": {},
   "outputs": [],
   "source": [
    "list_points = []\n",
    "for idx, row in df_home_job.iterrows():\n",
    "    points = generate_points_in_bounds(row['geometry'], row['customers_cnt_home'])\n",
    "    list_points.append(points)\n",
    "list_points = [x for sublist in list_points for x in sublist]    "
   ]
  },
  {
   "cell_type": "code",
   "execution_count": null,
   "metadata": {},
   "outputs": [],
   "source": [
    "df_points = pd.DataFrame(list_points, columns = ['lon', 'lat'])\n",
    "df_points[HEX_COLUMN] = make_h3_index(df_points, 'lat', 'lon', RES)"
   ]
  },
  {
   "cell_type": "code",
   "execution_count": null,
   "metadata": {},
   "outputs": [],
   "source": [
    "df_customers_cnt_home_hex = df_points.groupby(HEX_COLUMN, as_index=False)['lat'].count()\n",
    "df_customers_cnt_home_hex.columns = [HEX_COLUMN, 'customers_cnt_home_hex']"
   ]
  },
  {
   "cell_type": "code",
   "execution_count": null,
   "metadata": {},
   "outputs": [],
   "source": [
    "hexagon_cover_list = []\n",
    "for idx in range(0, len(gdf_home_job['features'])):\n",
    "    coords = gdf_home_job['features'][idx]['geometry']['coordinates']\n",
    "    coords = [np.column_stack((np.array(coords[0])[:, 1],\n",
    "                                                      np.array(coords[0])[:, 0])).tolist()]\n",
    "    try:\n",
    "        geoJson = {'type':'Polygon','coordinates': coords}\n",
    "        hexagons = list(h3.polyfill(geoJson, 10))\n",
    "    except:\n",
    "        geoJson = {'type':'Polygon','coordinates': coords[0]}\n",
    "        hexagons = list(h3.polyfill(geoJson, 10))        \n",
    "    hexagon_cover_list.append(hexagons)\n",
    "hexagon_cover_list = [x for sublist in hexagon_cover_list for x in sublist]"
   ]
  },
  {
   "cell_type": "code",
   "execution_count": null,
   "metadata": {},
   "outputs": [],
   "source": [
    "df_hexagons = pd.DataFrame(hexagon_cover_list, columns = [HEX_COLUMN])\n",
    "df_hexagons = pd.merge(df_hexagons, df_customers_cnt_home_hex, how = 'left', on = HEX_COLUMN)\n",
    "df_hexagons['customers_cnt_home_hex'].fillna(0, inplace=True)"
   ]
  },
  {
   "cell_type": "code",
   "execution_count": null,
   "metadata": {},
   "outputs": [],
   "source": [
    "df_hexagons.to_csv(\"../data/precessed/h3_10_customers_cnt_home_hex.csv\", sep = ';', index = None)"
   ]
  },
  {
   "cell_type": "code",
   "execution_count": null,
   "metadata": {},
   "outputs": [],
   "source": [
    "map_config = load_pickle(\"../configs/map_config_h3.pkl\")\n",
    "map_1 = KeplerGl(height = 700, config = map_config)\n",
    "map_1.add_data(df_hexagons, name='shape')\n",
    "map_1"
   ]
  },
  {
   "cell_type": "code",
   "execution_count": null,
   "metadata": {},
   "outputs": [],
   "source": [
    "save_pickle(map_1.config, \"../configs/map_config_h3.pkl\")"
   ]
  },
  {
   "cell_type": "code",
   "execution_count": null,
   "metadata": {},
   "outputs": [],
   "source": []
  }
 ],
 "metadata": {
  "kernelspec": {
   "display_name": "Python 3",
   "language": "python",
   "name": "python3"
  },
  "language_info": {
   "codemirror_mode": {
    "name": "ipython",
    "version": 3
   },
   "file_extension": ".py",
   "mimetype": "text/x-python",
   "name": "python",
   "nbconvert_exporter": "python",
   "pygments_lexer": "ipython3",
   "version": "3.8.2"
  }
 },
 "nbformat": 4,
 "nbformat_minor": 4
}
