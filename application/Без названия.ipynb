{
 "cells": [
  {
   "cell_type": "code",
   "execution_count": 19,
   "metadata": {
    "ExecuteTime": {
     "end_time": "2021-10-23T21:47:29.649826Z",
     "start_time": "2021-10-23T21:47:29.646361Z"
    }
   },
   "outputs": [],
   "source": [
    "import get_data as gd\n",
    "from config import mapbox_token, mapbox_style\n",
    "import plotly.graph_objs as go\n",
    "import os\n",
    "import sys\n",
    "\n",
    "from shapely.ops import cascaded_union\n",
    "from shapely import wkb\n",
    "import json\n",
    "import geopandas as gpd\n",
    "import pandas as pd\n",
    "from sqlalchemy import text, create_engine\n",
    "import os\n",
    "import sys"
   ]
  },
  {
   "cell_type": "code",
   "execution_count": 26,
   "metadata": {
    "ExecuteTime": {
     "end_time": "2021-10-23T21:48:27.465738Z",
     "start_time": "2021-10-23T21:48:27.462815Z"
    }
   },
   "outputs": [],
   "source": [
    "def get_administrative_area_polygon(name):\n",
    "    \"\"\"\n",
    "    Получение списка полигонов всех округов\n",
    "    \"\"\"\n",
    "    gdf = gpd.GeoDataFrame.from_postgis(\n",
    "        con=engine, sql=f\"select * from public.okrug_name_with_geometry where okrug_name = '{name}'\", geom_col='geometry')\n",
    "    return json.loads(gdf.to_json())\n"
   ]
  },
  {
   "cell_type": "code",
   "execution_count": 27,
   "metadata": {
    "ExecuteTime": {
     "end_time": "2021-10-23T21:48:35.411966Z",
     "start_time": "2021-10-23T21:48:28.263073Z"
    }
   },
   "outputs": [],
   "source": [
    "# датафрейм с границами округов\n",
    "df_adm_layers = gd.get_administrative_area_polygon()"
   ]
  },
  {
   "cell_type": "code",
   "execution_count": 28,
   "metadata": {
    "ExecuteTime": {
     "end_time": "2021-10-23T21:48:36.263123Z",
     "start_time": "2021-10-23T21:48:36.260286Z"
    }
   },
   "outputs": [],
   "source": [
    "engine = gd.create_connection()"
   ]
  },
  {
   "cell_type": "code",
   "execution_count": 29,
   "metadata": {
    "ExecuteTime": {
     "end_time": "2021-10-23T21:48:40.005716Z",
     "start_time": "2021-10-23T21:48:37.089785Z"
    }
   },
   "outputs": [],
   "source": [
    "# датафрейм с границами округов\n",
    "df_adm_layers = get_administrative_area_polygon(\"Все\")"
   ]
  },
  {
   "cell_type": "code",
   "execution_count": 3,
   "metadata": {
    "ExecuteTime": {
     "end_time": "2021-10-23T21:41:44.096400Z",
     "start_time": "2021-10-23T21:41:43.444082Z"
    }
   },
   "outputs": [],
   "source": [
    "# датафрейм с населением по округам\n",
    "df_total_population = gd.get_total_population()"
   ]
  },
  {
   "cell_type": "code",
   "execution_count": 4,
   "metadata": {
    "ExecuteTime": {
     "end_time": "2021-10-23T21:41:47.331896Z",
     "start_time": "2021-10-23T21:41:44.099557Z"
    }
   },
   "outputs": [],
   "source": [
    "# подложка с населением\n",
    "geojson, gdf_population = gd.get_population_for_polygon()"
   ]
  },
  {
   "cell_type": "code",
   "execution_count": 9,
   "metadata": {
    "ExecuteTime": {
     "end_time": "2021-10-23T21:42:53.716325Z",
     "start_time": "2021-10-23T21:42:53.696545Z"
    }
   },
   "outputs": [],
   "source": [
    "# инфраструктура\n",
    "dict_objects = {\n",
    "    # \"Детские сады\": gd.get_points(\"Детские сады\"),\n",
    "    # \"МФЦ\": gd.get_points(\"МФЦ\"),\n",
    "    # \"Школы\": gd.get_points(\"Школы\"),\n",
    "    # \"Больницы и поликлиники\": gd.get_points(\"Больницы и поликлиники\"),\n",
    "}\n",
    "\n",
    "\n",
    "def get_map_base_layout():\n",
    "    \"\"\"\n",
    "    Создание подложки карты\n",
    "    \"\"\"\n",
    "    map_layout = dict(\n",
    "        autosize=True,\n",
    "        height=900,\n",
    "        margin=dict(l=0, r=0, b=0, t=0),\n",
    "        hovermode=\"closest\",\n",
    "        legend=dict(font=dict(size=14), orientation='h'),\n",
    "        mapbox=dict(accesstoken=mapbox_token,\n",
    "                    style=mapbox_style, zoom=11)\n",
    "    )\n",
    "    return map_layout\n",
    "\n",
    "\n",
    "def _select_infrastructure_data(current_adm_layer, df):\n",
    "    \"\"\"\n",
    "    Агрегирование данных на административные границы\n",
    "\n",
    "    :param current_adm_layer: текущий административный округ\n",
    "    :param df: датафрейм с данными по административным округам\n",
    "    \"\"\"\n",
    "    if current_adm_layer == 'Все':\n",
    "        df_type = df\n",
    "    elif current_adm_layer == 'Новая Москва':\n",
    "        list_okrug = ['Троицкий административный округ',\n",
    "                      'Новомосковский административный округ']\n",
    "        df_type = df[df['okrug_name'].isin(list_okrug)]\n",
    "    elif current_adm_layer == 'Старая Москва':\n",
    "        list_okrug = ['Троицкий административный округ',\n",
    "                      'Новомосковский административный округ', 'Все']\n",
    "        df_type = df[~df['okrug_name'].isin(list_okrug)]\n",
    "    else:\n",
    "        df_type = df[df['okrug_name'] == current_adm_layer]\n",
    "    return df_type\n",
    "\n",
    "\n",
    "def _add_optimization_traces(traces, df_opt, geo_json_opt, infra_type):\n",
    "    \"\"\"\n",
    "    Добавление слоёв на карту, которые связаны с оптимизацией: новые локации и изохроны\n",
    "    \"\"\"\n",
    "    traces.append(go.Choroplethmapbox(z=df_opt['index'],\n",
    "                                      locations=df_opt['index'],\n",
    "                                      below=True,\n",
    "                                      geojson=geo_json_opt,\n",
    "                                      showscale=False,\n",
    "                                      showlegend=True,\n",
    "                                      name=\"Пешая доступность от инфраструктуры (новые объекты)\",\n",
    "                                      colorscale='ylgn',\n",
    "                                      marker=dict(\n",
    "                                          line=dict(width=2, color='rgb(0, 51, 0)'), opacity=0.7),\n",
    "                                      ))\n",
    "\n",
    "    traces.append(go.Scattermapbox(lat=df_opt.point_lat,\n",
    "                                   lon=df_opt.point_lon,\n",
    "                                   mode='markers',\n",
    "                                   marker=dict(\n",
    "                                       autocolorscale=False,\n",
    "                                       size=12,\n",
    "                                       symbol='circle',\n",
    "                                       color='red'\n",
    "                                   ),\n",
    "                                   name=f\"{infra_type} (новые)\",\n",
    "                                   text=df_opt['index']\n",
    "                                   ))\n",
    "\n",
    "\n",
    "def get_map_figure(infra_type, current_adm_layer, run_optinization, infra_n_value):\n",
    "    \"\"\"\n",
    "    Создание скатерплота с данными инфраструктуры\n",
    "\n",
    "    :param infra_type: текущий тип инфраструктуры\n",
    "    :param current_adm_layer: текущий административный округ\n",
    "    :param run_optinization: запуск оптимизации с отрисовкой результата\n",
    "    :param infra_n_value: числно новых объектов инфраструктуры\n",
    "    \"\"\"\n",
    "\n",
    "    analytics_data = {}\n",
    "    traces = []\n",
    "\n",
    "    map_layout = get_map_base_layout()\n",
    "    if dict_objects.get(infra_type, 0) == 0:\n",
    "        print('here')\n",
    "        dict_objects[infra_type] = gd.get_points(infra_type)\n",
    "    df_objects, _, df_simple_isochrone, geo_json_union = dict_objects[infra_type]\n",
    "\n",
    "    if run_optinization == True:\n",
    "        df_opt, geo_json_opt, center_coord, df_opt_analytics = \\\n",
    "            gd.get_optimization_result(\n",
    "                current_adm_layer, infra_n_value, infra_type)\n",
    "\n",
    "        _add_optimization_traces(traces, df_opt, geo_json_opt, infra_type)\n",
    "\n",
    "        analytics_data.update(\n",
    "            dict(zip(df_opt_analytics['zids_len'], df_opt_analytics['added_coverage'])))\n",
    "    else:\n",
    "        center_coord = gd.get_administrative_area_center(current_adm_layer)\n",
    "\n",
    "    # обрезаем объекты по типу административного слоя\n",
    "    df_objects_type = _select_infrastructure_data(\n",
    "        current_adm_layer, df_objects)\n",
    "    df_population = _select_infrastructure_data(\n",
    "        current_adm_layer, df_total_population)\n",
    "    df_simple_isochrone = _select_infrastructure_data(\n",
    "        current_adm_layer, df_simple_isochrone)\n",
    "    gdf_population_type = _select_infrastructure_data(\n",
    "        current_adm_layer, gdf_population)\n",
    "\n",
    "    # собираем текущую статистику по покрытию инфраструктурой выбранного района\n",
    "    df_unique_isochrones = df_objects_type.drop_duplicates(subset=['zid'])\n",
    "    analytics_data['current_infrastructure'] = df_unique_isochrones['customers_cnt_home'].sum()\n",
    "    analytics_data['total_population'] = df_population['customers_cnt_home'].sum()\n",
    "\n",
    "    # рисуем подложку с цветами по количеству проживающего населения\n",
    "    traces.append(go.Choroplethmapbox(z=gdf_population_type['customers_cnt_home'],\n",
    "                                      locations=gdf_population_type.index,\n",
    "                                      colorscale='ylgn',\n",
    "                                      below=\"water\",\n",
    "                                      geojson=geojson,\n",
    "                                      marker=dict(line=dict(width=0)),\n",
    "                                      showscale=False,\n",
    "                                      hoverinfo='z',\n",
    "                                      name='Численность населения',\n",
    "                                      showlegend=True,\n",
    "                                      marker_opacity=0.7))\n",
    "\n",
    "    # изохрона под инфраструктуру\n",
    "    traces.append(go.Choroplethmapbox(z=df_simple_isochrone['index'],\n",
    "                                      locations=df_simple_isochrone['index'],\n",
    "                                      below=True,\n",
    "                                      geojson=geo_json_union,\n",
    "                                      showscale=False,\n",
    "                                      colorscale=[[0, 'rgba(255,255,255,.2)'], [\n",
    "                                          1, 'rgba(255,255,255,.2)']],\n",
    "                                      marker=dict(\n",
    "                                          line=dict(width=1.2, color='dimgray'), opacity=0.9),\n",
    "                                      name = 'Пешая доступность от инфраструктуры (текущая)',\n",
    "                                      showlegend=True,\n",
    "                                      hoverinfo='skip'\n",
    "                                      ))\n",
    "\n",
    "    # инфраструктура в выбранном районе\n",
    "    traces.append(go.Scattermapbox(lat=df_objects_type.point_lat,\n",
    "                                   lon=df_objects_type.point_lon,\n",
    "                                   mode='markers',\n",
    "                                   marker=dict(\n",
    "                                       size=8,\n",
    "                                       symbol='circle',\n",
    "                                       color='dimgray'\n",
    "                                   ),\n",
    "                                   name=f\"{infra_type} (текущие)\",\n",
    "                                   text=df_objects_type['name'] + '<br>' +\n",
    "                                   df_objects_type['address_name'] + '<br>население в пешей доступности:' +\n",
    "                                   round(df_objects_type['customers_cnt_home']).astype(str)))\n",
    "\n",
    "    figure = go.Figure(data=traces, layout=map_layout)\n",
    "    return figure, center_coord, analytics_data\n",
    "\n",
    "\n",
    "def create_layers(current_adm_layer):\n",
    "    \"\"\"\n",
    "    Создание подложки с административными районами\n",
    "\n",
    "    :param current_adm_layer: текущий административный округ (выделяется красным)\n",
    "    \"\"\"\n",
    "    for feature in df_adm_layers['features']:\n",
    "        feature['properties']['line-color'] = \"green\" if feature['properties']['okrug_name'] == current_adm_layer else \"black\"\n",
    "        feature['properties']['line-width'] = 2.5 if feature['properties']['okrug_name'] == current_adm_layer else 0.1\n",
    "    layers = [dict(sourcetype='geojson',\n",
    "                   source=feature['geometry'],\n",
    "                   type='line',\n",
    "                   below=-1,\n",
    "                   line=dict(width=feature['properties']['line-width']),\n",
    "                   color=feature['properties']['line-color'],\n",
    "                   ) for feature in df_adm_layers['features']]\n",
    "\n",
    "    return layers\n",
    "\n",
    "\n",
    "def update_map_data(current_adm_layer, current_infra_name, infra_n_value, run_optinization=False, run_human_example=False, zoom=9):\n",
    "    \"\"\"\n",
    "    Обновление данных карты: подложки с арминистративными границами и текущими инфраструктурными объектами\n",
    "\n",
    "    :param current_adm_layer: текущий административный округ\n",
    "    :param current_infra_name: текущая инфраструктура\n",
    "    :param infra_n_value: текущее число новых инфраструктурных объектов\n",
    "    :param run_optinization: запуск оптимизации с отрисовкой результата\n",
    "    :param run_human_example: отрисовка результата по коодинате, которую ввёл пользователь\n",
    "    :param zoom: уровень масштабирования карты\n",
    "    \"\"\"\n",
    "\n",
    "    figure, center_coord, analytics_data = get_map_figure(\n",
    "        current_infra_name, current_adm_layer, run_optinization, infra_n_value)\n",
    "    layers = create_layers(current_adm_layer)\n",
    "    figure['layout']['mapbox']['layers'] = layers\n",
    "    figure['layout']['mapbox']['center'] = dict(\n",
    "        lat=center_coord.y, lon=center_coord.x)\n",
    "    figure['layout']['mapbox']['zoom'] = zoom if run_optinization == False else 13\n",
    "\n",
    "    return figure, analytics_data"
   ]
  },
  {
   "cell_type": "code",
   "execution_count": 14,
   "metadata": {
    "ExecuteTime": {
     "end_time": "2021-10-23T21:43:19.729738Z",
     "start_time": "2021-10-23T21:43:17.692558Z"
    }
   },
   "outputs": [],
   "source": [
    "x = get_map_figure(\"МФЦ\", \"Старая Москва\", 1, 1)"
   ]
  },
  {
   "cell_type": "code",
   "execution_count": 8,
   "metadata": {
    "ExecuteTime": {
     "end_time": "2021-10-23T21:42:11.861435Z",
     "start_time": "2021-10-23T21:42:11.857946Z"
    }
   },
   "outputs": [
    {
     "data": {
      "text/plain": [
       "4"
      ]
     },
     "execution_count": 8,
     "metadata": {},
     "output_type": "execute_result"
    }
   ],
   "source": [
    "len(dict_objects['МФЦ'])"
   ]
  },
  {
   "cell_type": "code",
   "execution_count": null,
   "metadata": {},
   "outputs": [],
   "source": []
  }
 ],
 "metadata": {
  "kernelspec": {
   "display_name": "Python 3",
   "language": "python",
   "name": "python3"
  },
  "language_info": {
   "codemirror_mode": {
    "name": "ipython",
    "version": 3
   },
   "file_extension": ".py",
   "mimetype": "text/x-python",
   "name": "python",
   "nbconvert_exporter": "python",
   "pygments_lexer": "ipython3",
   "version": "3.8.2"
  }
 },
 "nbformat": 4,
 "nbformat_minor": 4
}
